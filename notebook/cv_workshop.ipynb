{
 "cells": [
  {
   "cell_type": "markdown",
   "source": [
    "![](../assets/workshop-banner.png)"
   ],
   "metadata": {}
  },
  {
   "cell_type": "markdown",
   "source": [
    "# Introduction to computer vision with python\n",
    "> This workshop introduces several computer vision fundamentals.\n",
    "\n",
    "The notebook source is locaed at : [insert link here]()\n",
    "\n",
    "Some resources you might find helpful:\n",
    "- [Intro to colab](https://colab.research.google.com/notebooks/welcome.ipynb)\n",
    "- [Intro to python](https://github.com/RohanGautam/intro-to-python-workshop)"
   ],
   "metadata": {}
  },
  {
   "cell_type": "markdown",
   "source": [
    "## Libraries we'll be using \n",
    "- [Numpy](https://github.com/numpy/numpy) has powerful multidimensional arrays, and is a fundamental package for scientific computing with python.\n",
    "- [Matplotlib](https://github.com/matplotlib/matplotlib) is a comprehensive library for creating static, animated, and interactive visualizations in Python.\n",
    "- [OpenCv](https://docs.opencv.org/4.5.2/d6/d00/tutorial_py_root.html) is a open source compter vision library in python."
   ],
   "metadata": {}
  },
  {
   "cell_type": "code",
   "execution_count": 2,
   "source": [
    "import numpy as np\n",
    "import matplotlib.pylab as plt"
   ],
   "outputs": [],
   "metadata": {}
  },
  {
   "cell_type": "code",
   "execution_count": null,
   "source": [],
   "outputs": [],
   "metadata": {}
  }
 ],
 "metadata": {
  "orig_nbformat": 4,
  "language_info": {
   "name": "python",
   "version": "3.7.10",
   "mimetype": "text/x-python",
   "codemirror_mode": {
    "name": "ipython",
    "version": 3
   },
   "pygments_lexer": "ipython3",
   "nbconvert_exporter": "python",
   "file_extension": ".py"
  },
  "kernelspec": {
   "name": "python3",
   "display_name": "Python 3.7.10 64-bit ('torch-book': conda)"
  },
  "interpreter": {
   "hash": "ff75702022558467f9e376a4c7496a2e334bac142e56183f74be88028678ac45"
  }
 },
 "nbformat": 4,
 "nbformat_minor": 2
}